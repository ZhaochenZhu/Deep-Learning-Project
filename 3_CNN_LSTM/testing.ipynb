{
 "cells": [
  {
   "cell_type": "code",
   "execution_count": 13,
   "id": "d4757511",
   "metadata": {},
   "outputs": [],
   "source": [
    "import numpy as np\n",
    "import torch\n",
    "import torch.nn as nn\n",
    "import torch.nn.functional as F\n",
    "import tqdm"
   ]
  },
  {
   "cell_type": "code",
   "execution_count": 61,
   "id": "e0e001a0",
   "metadata": {
    "scrolled": true
   },
   "outputs": [
    {
     "name": "stdout",
     "output_type": "stream",
     "text": [
      "[nltk_data] Downloading package punkt to /home/yul080/nltk_data...\n",
      "[nltk_data]   Package punkt is already up-to-date!\n",
      "Running Experiment:  task-1-default-config\n",
      "loading annotations into memory...\n",
      "Done (t=0.83s)\n",
      "creating index...\n",
      "index created!\n",
      "loading annotations into memory...\n",
      "Done (t=0.32s)\n",
      "creating index...\n",
      "index created!\n",
      "Using the saved vocab.\n",
      "loading annotations into memory...\n",
      "Done (t=0.62s)\n",
      "creating index...\n",
      "index created!\n",
      "loading annotations into memory...\n",
      "Done (t=0.63s)\n",
      "creating index...\n",
      "index created!\n",
      "loading annotations into memory...\n",
      "Done (t=0.40s)\n",
      "creating index...\n",
      "index created!\n",
      "Epoch 1\n",
      "--------\n",
      "Training...\n",
      "-----------\n",
      "  0%|                                                  | 0/1165 [00:00<?, ?it/s]/opt/conda/lib/python3.9/site-packages/torch/nn/functional.py:718: UserWarning: Named tensors and all their associated APIs are an experimental feature and subject to change. Please do not use them for anything important until they are released as stable. (Triggered internally at  /pytorch/c10/core/TensorImpl.h:1156.)\n",
      "  return torch.max_pool2d(input, kernel_size, stride, padding, dilation, ceil_mode)\n",
      "  0%|                                                  | 0/1165 [00:00<?, ?it/s]\n",
      "Traceback (most recent call last):\n",
      "  File \"/home/yul080/cse-151b-pa3-gary-cottrel-fan-club-pa3/main.py\", line 21, in <module>\n",
      "    exp.run()\n",
      "  File \"/home/yul080/cse-151b-pa3-gary-cottrel-fan-club-pa3/experiment.py\", line 111, in run\n",
      "    train_loss = self.__train()\n",
      "  File \"/home/yul080/cse-151b-pa3-gary-cottrel-fan-club-pa3/experiment.py\", line 161, in __train\n",
      "    loss = self.__criterion(output,train_captions)\n",
      "  File \"/opt/conda/lib/python3.9/site-packages/torch/nn/modules/module.py\", line 1051, in _call_impl\n",
      "    return forward_call(*input, **kwargs)\n",
      "  File \"/opt/conda/lib/python3.9/site-packages/torch/nn/modules/loss.py\", line 1120, in forward\n",
      "    return F.cross_entropy(input, target, weight=self.weight,\n",
      "  File \"/opt/conda/lib/python3.9/site-packages/torch/nn/functional.py\", line 2824, in cross_entropy\n",
      "    return torch._C._nn.cross_entropy_loss(input, target, weight, _Reduction.get_enum(reduction), ignore_index)\n",
      "RuntimeError: Expected target size [64, 14463], got [64, 38, 14463]\n"
     ]
    }
   ],
   "source": [
    "!python main.py"
   ]
  },
  {
   "cell_type": "code",
   "execution_count": 23,
   "id": "0fa64847",
   "metadata": {},
   "outputs": [],
   "source": [
    "f = nn.CrossEntropyLoss()"
   ]
  },
  {
   "cell_type": "code",
   "execution_count": 68,
   "id": "d28070ff",
   "metadata": {},
   "outputs": [],
   "source": [
    "input = torch.rand(23,14463)"
   ]
  },
  {
   "cell_type": "code",
   "execution_count": 73,
   "id": "2b9e33b3",
   "metadata": {},
   "outputs": [
    {
     "data": {
      "text/plain": [
       "torch.Size([23])"
      ]
     },
     "execution_count": 73,
     "metadata": {},
     "output_type": "execute_result"
    }
   ],
   "source": [
    "output = torch.rand(23).long()\n",
    "output.shape"
   ]
  },
  {
   "cell_type": "code",
   "execution_count": 74,
   "id": "669e2e73",
   "metadata": {},
   "outputs": [
    {
     "data": {
      "text/plain": [
       "tensor(9.5596)"
      ]
     },
     "execution_count": 74,
     "metadata": {},
     "output_type": "execute_result"
    }
   ],
   "source": [
    "f(input, output)"
   ]
  },
  {
   "cell_type": "code",
   "execution_count": null,
   "id": "27c7978b",
   "metadata": {},
   "outputs": [],
   "source": []
  }
 ],
 "metadata": {
  "kernelspec": {
   "display_name": "Python 3 (ipykernel)",
   "language": "python",
   "name": "python3"
  },
  "language_info": {
   "codemirror_mode": {
    "name": "ipython",
    "version": 3
   },
   "file_extension": ".py",
   "mimetype": "text/x-python",
   "name": "python",
   "nbconvert_exporter": "python",
   "pygments_lexer": "ipython3",
   "version": "3.9.5"
  }
 },
 "nbformat": 4,
 "nbformat_minor": 5
}

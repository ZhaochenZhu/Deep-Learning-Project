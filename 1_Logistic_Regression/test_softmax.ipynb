{
 "cells": [
  {
   "cell_type": "code",
   "execution_count": 1,
   "metadata": {},
   "outputs": [],
   "source": [
    "import numpy as np\n",
    "from data import *\n",
    "from network import *\n"
   ]
  },
  {
   "cell_type": "code",
   "execution_count": 2,
   "metadata": {},
   "outputs": [],
   "source": [
    "%load_ext autoreload\n",
    "%autoreload 2\n"
   ]
  },
  {
   "cell_type": "code",
   "execution_count": 22,
   "metadata": {},
   "outputs": [
    {
     "data": {
      "text/plain": [
       "array([[221.        , 211.66666667, 212.        , ..., 121.        ,\n",
       "        113.        , 105.        ],\n",
       "       [168.33333333, 168.66666667, 173.        , ...,   8.33333333,\n",
       "          5.        ,   8.        ],\n",
       "       [ 27.33333333,  36.        ,  46.66666667, ...,  33.33333333,\n",
       "         31.66666667,  29.66666667],\n",
       "       ...,\n",
       "       [ 86.66666667,  84.        ,  79.33333333, ...,  57.        ,\n",
       "         54.66666667,  50.33333333],\n",
       "       [ 59.        ,  61.66666667,  64.66666667, ...,   7.33333333,\n",
       "          8.        ,   9.        ],\n",
       "       [226.66666667, 226.33333333, 227.33333333, ...,  63.66666667,\n",
       "         36.        ,  35.66666667]])"
      ]
     },
     "execution_count": 22,
     "metadata": {},
     "output_type": "execute_result"
    }
   ],
   "source": [
    "datas = load_data()\n",
    "train_data, train_label = data.shuffle(datas)\n",
    "train_data"
   ]
  },
  {
   "cell_type": "code",
   "execution_count": 23,
   "metadata": {},
   "outputs": [],
   "source": [
    "for i in range(len(train_data)):\n",
    "\ttrain_data[i] = min_max_normalize(train_data[i])[0]"
   ]
  },
  {
   "cell_type": "code",
   "execution_count": 24,
   "metadata": {},
   "outputs": [
    {
     "data": {
      "text/plain": [
       "array([[0.86666667, 0.83006536, 0.83137255, ..., 0.4745098 , 0.44313725,\n",
       "        0.41176471],\n",
       "       [0.69111425, 0.69252468, 0.71086037, ..., 0.01410437, 0.        ,\n",
       "        0.01269394],\n",
       "       [0.0304414 , 0.07001522, 0.11872146, ..., 0.05783866, 0.05022831,\n",
       "        0.04109589],\n",
       "       ...,\n",
       "       [0.39888683, 0.38404453, 0.3580705 , ..., 0.23376623, 0.22077922,\n",
       "        0.19666048],\n",
       "       [0.2764613 , 0.28909953, 0.30331754, ..., 0.03159558, 0.03475513,\n",
       "        0.03949447],\n",
       "       [0.985     , 0.98333333, 0.98833333, ..., 0.17      , 0.03166667,\n",
       "        0.03      ]])"
      ]
     },
     "execution_count": 24,
     "metadata": {},
     "output_type": "execute_result"
    }
   ],
   "source": [
    "train_data"
   ]
  },
  {
   "cell_type": "code",
   "execution_count": 16,
   "metadata": {},
   "outputs": [],
   "source": [
    "X = datas[0]\n",
    "for i in range(len(X)):\n",
    "    X[i] = z_score_normalize(X[i])[0]\n",
    "Y= datas[1]\n",
    "\n",
    "#onehot encode\n",
    "# for i in range(len(Y)):\n",
    "#     Y[i] = onehot_encode(Y[i])\n",
    "\n",
    "# Y = np.array(Y)"
   ]
  },
  {
   "cell_type": "code",
   "execution_count": 17,
   "metadata": {},
   "outputs": [
    {
     "data": {
      "text/plain": [
       "(11.51260231200997, 0.2098)"
      ]
     },
     "execution_count": 17,
     "metadata": {},
     "output_type": "execute_result"
    }
   ],
   "source": [
    "regressor.test((X,Y))"
   ]
  },
  {
   "cell_type": "code",
   "execution_count": 25,
   "metadata": {},
   "outputs": [],
   "source": [
    "regressor = Network({'lr':0.0000008},activation=softmax,loss_func = multiclass_cross_entropy,out_dim=10)"
   ]
  },
  {
   "cell_type": "code",
   "execution_count": null,
   "metadata": {},
   "outputs": [],
   "source": []
  },
  {
   "cell_type": "code",
   "execution_count": 42,
   "metadata": {},
   "outputs": [
    {
     "name": "stdout",
     "output_type": "stream",
     "text": [
      "(5000, 10)\n",
      "(5000, 10)\n",
      "[[ -0.          -0.          -0.         ...  -0.          -0.\n",
      "   -0.        ]\n",
      " [ -0.          -0.          -0.         ...  -0.          -0.\n",
      "  -10.81969142]\n",
      " [-10.81966645  -0.          -0.         ...  -0.          -0.\n",
      "   -0.        ]\n",
      " ...\n",
      " [ -0.          -0.          -0.         ... -10.81970117  -0.\n",
      "   -0.        ]\n",
      " [-10.81900069  -0.          -0.         ...  -0.          -0.\n",
      "   -0.        ]\n",
      " [ -0.          -0.          -0.         ...  -0.          -0.\n",
      "  -10.81976447]]\n",
      "<class 'numpy.float64'>\n",
      "(10.81976198731827, 0.1038)\n",
      "(5000, 10)\n",
      "(5000, 10)\n",
      "[[ -0.          -0.          -0.         ...  -0.          -0.\n",
      "  -10.81996363]\n",
      " [ -0.          -0.          -0.         ...  -0.          -0.\n",
      "   -0.        ]\n",
      " [ -0.          -0.          -0.         ...  -0.          -0.\n",
      "   -0.        ]\n",
      " ...\n",
      " [-10.81917941  -0.          -0.         ...  -0.          -0.\n",
      "   -0.        ]\n",
      " [ -0.          -0.          -0.         ...  -0.          -0.\n",
      "   -0.        ]\n",
      " [-10.81950726  -0.          -0.         ...  -0.          -0.\n",
      "   -0.        ]]\n",
      "<class 'numpy.float64'>\n",
      "(10.819764063143232, 0.101)\n",
      "(5000, 10)\n",
      "(5000, 10)\n",
      "[[ -0.          -0.          -0.         ...  -0.         -10.81967983\n",
      "   -0.        ]\n",
      " [ -0.          -0.          -0.         ...  -0.          -0.\n",
      "  -10.8196656 ]\n",
      " [ -0.         -10.81987452  -0.         ...  -0.          -0.\n",
      "   -0.        ]\n",
      " ...\n",
      " [ -0.          -0.         -10.82016289 ...  -0.          -0.\n",
      "   -0.        ]\n",
      " [-10.81978127  -0.          -0.         ...  -0.          -0.\n",
      "   -0.        ]\n",
      " [ -0.          -0.          -0.         ... -10.81984731  -0.\n",
      "   -0.        ]]\n",
      "<class 'numpy.float64'>\n",
      "(10.819763306722129, 0.0982)\n",
      "(5000, 10)\n",
      "(5000, 10)\n",
      "[[ -0.          -0.          -0.         ...  -0.         -10.81971118\n",
      "   -0.        ]\n",
      " [ -0.          -0.         -10.8195263  ...  -0.          -0.\n",
      "   -0.        ]\n",
      " [ -0.          -0.          -0.         ... -10.82003776  -0.\n",
      "   -0.        ]\n",
      " ...\n",
      " [ -0.          -0.          -0.         ...  -0.          -0.\n",
      "  -10.8199583 ]\n",
      " [ -0.          -0.         -10.82014117 ...  -0.          -0.\n",
      "   -0.        ]\n",
      " [ -0.          -0.          -0.         ...  -0.          -0.\n",
      "  -10.81964462]]\n",
      "<class 'numpy.float64'>\n",
      "(10.819763622935369, 0.1028)\n",
      "(5000, 10)\n",
      "(5000, 10)\n",
      "[[ -0.          -0.          -0.         ...  -0.          -0.\n",
      "   -0.        ]\n",
      " [ -0.          -0.          -0.         ...  -0.          -0.\n",
      "   -0.        ]\n",
      " [ -0.          -0.          -0.         ...  -0.          -0.\n",
      "   -0.        ]\n",
      " ...\n",
      " [ -0.          -0.          -0.         ...  -0.         -10.81964401\n",
      "   -0.        ]\n",
      " [-10.81934976  -0.          -0.         ...  -0.          -0.\n",
      "   -0.        ]\n",
      " [ -0.          -0.          -0.         ...  -0.          -0.\n",
      "   -0.        ]]\n",
      "<class 'numpy.float64'>\n",
      "(10.819762619565376, 0.1012)\n",
      "(5000, 10)\n",
      "(5000, 10)\n",
      "[[ -0.          -0.          -0.         ...  -0.          -0.\n",
      "  -10.82007374]\n",
      " [ -0.          -0.          -0.         ...  -0.          -0.\n",
      "  -10.81975967]\n",
      " [ -0.          -0.          -0.         ... -10.81989765  -0.\n",
      "   -0.        ]\n",
      " ...\n",
      " [ -0.          -0.          -0.         ...  -0.          -0.\n",
      "   -0.        ]\n",
      " [ -0.          -0.          -0.         ...  -0.          -0.\n",
      "   -0.        ]\n",
      " [ -0.          -0.          -0.         ...  -0.          -0.\n",
      "   -0.        ]]\n",
      "<class 'numpy.float64'>\n",
      "(10.81976300480203, 0.099)\n",
      "(5000, 10)\n",
      "(5000, 10)\n",
      "[[ -0.          -0.          -0.         ...  -0.          -0.\n",
      "   -0.        ]\n",
      " [ -0.          -0.         -10.81956365 ...  -0.          -0.\n",
      "   -0.        ]\n",
      " [ -0.          -0.          -0.         ...  -0.          -0.\n",
      "  -10.81991669]\n",
      " ...\n",
      " [ -0.          -0.          -0.         ...  -0.         -10.81952158\n",
      "   -0.        ]\n",
      " [ -0.          -0.          -0.         ...  -0.          -0.\n",
      "   -0.        ]\n",
      " [ -0.         -10.82010333  -0.         ...  -0.          -0.\n",
      "   -0.        ]]\n",
      "<class 'numpy.float64'>\n",
      "(10.81976503879196, 0.096)\n",
      "(5000, 10)\n",
      "(5000, 10)\n",
      "[[ -0.          -0.          -0.         ...  -0.         -10.81952996\n",
      "   -0.        ]\n",
      " [ -0.          -0.          -0.         ...  -0.          -0.\n",
      "   -0.        ]\n",
      " [ -0.          -0.          -0.         ... -10.8196885   -0.\n",
      "   -0.        ]\n",
      " ...\n",
      " [ -0.          -0.          -0.         ...  -0.          -0.\n",
      "   -0.        ]\n",
      " [ -0.          -0.          -0.         ...  -0.         -10.81940119\n",
      "   -0.        ]\n",
      " [ -0.          -0.          -0.         ...  -0.          -0.\n",
      "   -0.        ]]\n",
      "<class 'numpy.float64'>\n",
      "(10.81976466062829, 0.0968)\n",
      "(5000, 10)\n",
      "(5000, 10)\n",
      "[[-10.81948741  -0.          -0.         ...  -0.          -0.\n",
      "   -0.        ]\n",
      " [ -0.          -0.          -0.         ...  -0.          -0.\n",
      "   -0.        ]\n",
      " [ -0.          -0.          -0.         ...  -0.         -10.81946251\n",
      "   -0.        ]\n",
      " ...\n",
      " [ -0.          -0.          -0.         ...  -0.          -0.\n",
      "   -0.        ]\n",
      " [ -0.          -0.         -10.81956926 ...  -0.          -0.\n",
      "   -0.        ]\n",
      " [ -0.          -0.          -0.         ...  -0.          -0.\n",
      "   -0.        ]]\n",
      "<class 'numpy.float64'>\n",
      "(10.819764634965205, 0.0958)\n",
      "(5000, 10)\n",
      "(5000, 10)\n",
      "[[ -0.          -0.          -0.         ... -10.81994557  -0.\n",
      "   -0.        ]\n",
      " [ -0.          -0.          -0.         ...  -0.          -0.\n",
      "   -0.        ]\n",
      " [ -0.         -10.82005446  -0.         ...  -0.          -0.\n",
      "   -0.        ]\n",
      " ...\n",
      " [ -0.          -0.          -0.         ...  -0.          -0.\n",
      "   -0.        ]\n",
      " [-10.81953067  -0.          -0.         ...  -0.          -0.\n",
      "   -0.        ]\n",
      " [ -0.          -0.          -0.         ...  -0.          -0.\n",
      "   -0.        ]]\n",
      "<class 'numpy.float64'>\n",
      "(10.819762710695537, 0.1046)\n"
     ]
    }
   ],
   "source": [
    "folds = data.generate_k_fold_set((train_data,train_label))\n",
    "for i in folds:\n",
    "    print(regressor.test(i[1]))"
   ]
  },
  {
   "cell_type": "code",
   "execution_count": 26,
   "metadata": {},
   "outputs": [
    {
     "name": "stdout",
     "output_type": "stream",
     "text": [
      "multi\n",
      "13.122363377404323\n",
      "multi\n",
      "13.122363063558911\n",
      "multi\n",
      "13.122362749742418\n",
      "multi\n",
      "13.122362435954866\n",
      "multi\n",
      "13.122362122196252\n",
      "multi\n",
      "13.122361808466586\n",
      "multi\n",
      "13.12236149476585\n",
      "multi\n",
      "13.122361181094055\n",
      "multi\n",
      "13.1223608674512\n",
      "multi\n",
      "13.12236055383728\n",
      "multi\n",
      "13.12236024025229\n",
      "multi\n",
      "13.122359926696255\n",
      "multi\n",
      "13.122359613169143\n",
      "multi\n",
      "13.122359299670984\n",
      "multi\n",
      "13.122358986201759\n",
      "multi\n",
      "13.122358672761472\n",
      "multi\n",
      "13.12235835935011\n",
      "multi\n",
      "13.122358045967706\n",
      "multi\n",
      "13.12235773261423\n",
      "multi\n",
      "13.122357419289695\n",
      "multi\n",
      "13.122357105994103\n",
      "multi\n",
      "13.122356792727453\n",
      "multi\n",
      "13.122356479489738\n",
      "multi\n",
      "13.122356166280957\n",
      "multi\n",
      "13.122355853101126\n",
      "multi\n",
      "13.122355539950224\n",
      "multi\n",
      "13.122355226828272\n"
     ]
    },
    {
     "ename": "KeyboardInterrupt",
     "evalue": "",
     "output_type": "error",
     "traceback": [
      "\u001b[1;31m---------------------------------------------------------------------------\u001b[0m",
      "\u001b[1;31mKeyboardInterrupt\u001b[0m                         Traceback (most recent call last)",
      "Cell \u001b[1;32mIn [26], line 2\u001b[0m\n\u001b[0;32m      1\u001b[0m \u001b[39mfor\u001b[39;00m i \u001b[39min\u001b[39;00m \u001b[39mrange\u001b[39m(\u001b[39m100\u001b[39m):\n\u001b[1;32m----> 2\u001b[0m     \u001b[39mprint\u001b[39m(regressor\u001b[39m.\u001b[39mtrain((train_data,train_label)))\n",
      "File \u001b[1;32mc:\\Users\\leoli\\Desktop\\CSE151B\\pa1\\network.py:166\u001b[0m, in \u001b[0;36mNetwork.train\u001b[1;34m(self, minibatch)\u001b[0m\n\u001b[0;32m    148\u001b[0m \u001b[39m\"\"\"\u001b[39;00m\n\u001b[0;32m    149\u001b[0m \u001b[39mTrain the network on the given minibatch\u001b[39;00m\n\u001b[0;32m    150\u001b[0m \n\u001b[1;32m   (...)\u001b[0m\n\u001b[0;32m    163\u001b[0m \u001b[39m    accuracy over minibatch\u001b[39;00m\n\u001b[0;32m    164\u001b[0m \u001b[39m\"\"\"\u001b[39;00m\n\u001b[0;32m    165\u001b[0m X, y \u001b[39m=\u001b[39m minibatch\n\u001b[1;32m--> 166\u001b[0m X \u001b[39m=\u001b[39m data\u001b[39m.\u001b[39;49mappend_bias(X)\n\u001b[0;32m    167\u001b[0m batch_size \u001b[39m=\u001b[39m \u001b[39mlen\u001b[39m(X)\n\u001b[0;32m    168\u001b[0m \u001b[39mif\u001b[39;00m \u001b[39mself\u001b[39m\u001b[39m.\u001b[39mout_dim \u001b[39m==\u001b[39m\u001b[39m1\u001b[39m :\n",
      "File \u001b[1;32mc:\\Users\\leoli\\Desktop\\CSE151B\\pa1\\data.py:188\u001b[0m, in \u001b[0;36mappend_bias\u001b[1;34m(X)\u001b[0m\n\u001b[0;32m    186\u001b[0m N, d \u001b[39m=\u001b[39m X\u001b[39m.\u001b[39mshape[\u001b[39m0\u001b[39m], X\u001b[39m.\u001b[39mshape[\u001b[39m1\u001b[39m]\n\u001b[0;32m    187\u001b[0m bias \u001b[39m=\u001b[39m np\u001b[39m.\u001b[39marray([np\u001b[39m.\u001b[39mones(N)])\n\u001b[1;32m--> 188\u001b[0m \u001b[39mreturn\u001b[39;00m np\u001b[39m.\u001b[39;49mconcatenate((X,bias\u001b[39m.\u001b[39;49mT),axis\u001b[39m=\u001b[39;49m\u001b[39m1\u001b[39;49m)\n",
      "File \u001b[1;32m<__array_function__ internals>:180\u001b[0m, in \u001b[0;36mconcatenate\u001b[1;34m(*args, **kwargs)\u001b[0m\n",
      "\u001b[1;31mKeyboardInterrupt\u001b[0m: "
     ]
    }
   ],
   "source": [
    "for i in range(100):\n",
    "    print(regressor.train((train_data,train_label)))"
   ]
  },
  {
   "cell_type": "code",
   "execution_count": null,
   "metadata": {},
   "outputs": [],
   "source": [
    "test_data"
   ]
  },
  {
   "cell_type": "code",
   "execution_count": 60,
   "metadata": {},
   "outputs": [
    {
     "data": {
      "text/plain": [
       "((1025, 10), (50000, 1025))"
      ]
     },
     "execution_count": 60,
     "metadata": {},
     "output_type": "execute_result"
    }
   ],
   "source": [
    "weights =regressor.weights\n",
    "X = append_bias(X)\n",
    "weights.shape,X.shape"
   ]
  },
  {
   "cell_type": "code",
   "execution_count": 61,
   "metadata": {},
   "outputs": [
    {
     "data": {
      "text/plain": [
       "array([[2.e-06, 2.e-06, 2.e-06, ..., 2.e-06, 2.e-06, 2.e-06],\n",
       "       [2.e-06, 2.e-06, 2.e-06, ..., 2.e-06, 2.e-06, 2.e-06],\n",
       "       [2.e-06, 2.e-06, 2.e-06, ..., 2.e-06, 2.e-06, 2.e-06],\n",
       "       ...,\n",
       "       [2.e-06, 2.e-06, 2.e-06, ..., 2.e-06, 2.e-06, 2.e-06],\n",
       "       [2.e-06, 2.e-06, 2.e-06, ..., 2.e-06, 2.e-06, 2.e-06],\n",
       "       [2.e-06, 2.e-06, 2.e-06, ..., 2.e-06, 2.e-06, 2.e-06]])"
      ]
     },
     "execution_count": 61,
     "metadata": {},
     "output_type": "execute_result"
    }
   ],
   "source": [
    "softmax((X @ weights))"
   ]
  },
  {
   "cell_type": "code",
   "execution_count": 62,
   "metadata": {},
   "outputs": [
    {
     "ename": "IndexError",
     "evalue": "only integers, slices (`:`), ellipsis (`...`), numpy.newaxis (`None`) and integer or boolean arrays are valid indices",
     "output_type": "error",
     "traceback": [
      "\u001b[1;31m---------------------------------------------------------------------------\u001b[0m",
      "\u001b[1;31mIndexError\u001b[0m                                Traceback (most recent call last)",
      "Cell \u001b[1;32mIn [62], line 4\u001b[0m\n\u001b[0;32m      2\u001b[0m Y \u001b[39m=\u001b[39m Y\u001b[39m.\u001b[39mtolist()\n\u001b[0;32m      3\u001b[0m \u001b[39mfor\u001b[39;00m i \u001b[39min\u001b[39;00m \u001b[39mrange\u001b[39m(\u001b[39mlen\u001b[39m(Y)):\n\u001b[1;32m----> 4\u001b[0m     Y[i] \u001b[39m=\u001b[39m onehot_encode(Y[i])\n\u001b[0;32m      6\u001b[0m Y \u001b[39m=\u001b[39m np\u001b[39m.\u001b[39marray(Y)\n",
      "File \u001b[1;32mc:\\Users\\leoli\\Desktop\\CSE151B\\pa1\\data.py:112\u001b[0m, in \u001b[0;36monehot_encode\u001b[1;34m(y)\u001b[0m\n\u001b[0;32m    108\u001b[0m k\u001b[39m=\u001b[39m\u001b[39m10\u001b[39m\n\u001b[0;32m    109\u001b[0m \u001b[39m# res = np.zeros((y.shape,k))\u001b[39;00m\n\u001b[0;32m    110\u001b[0m \u001b[39m# for i in range (y.shape):\u001b[39;00m\n\u001b[0;32m    111\u001b[0m \u001b[39m#     res[i,y[i]] =1\u001b[39;00m\n\u001b[1;32m--> 112\u001b[0m res \u001b[39m=\u001b[39m np\u001b[39m.\u001b[39;49meye(k)[y]\n\u001b[0;32m    113\u001b[0m \u001b[39mreturn\u001b[39;00m res\n",
      "\u001b[1;31mIndexError\u001b[0m: only integers, slices (`:`), ellipsis (`...`), numpy.newaxis (`None`) and integer or boolean arrays are valid indices"
     ]
    }
   ],
   "source": [
    "#onehot encode\n",
    "Y = Y.tolist()\n",
    "for i in range(len(Y)):\n",
    "    Y[i] = onehot_encode(Y[i])\n",
    "\n",
    "Y = np.array(Y)"
   ]
  },
  {
   "cell_type": "code",
   "execution_count": 63,
   "metadata": {},
   "outputs": [
    {
     "data": {
      "text/plain": [
       "(50000, 10)"
      ]
     },
     "execution_count": 63,
     "metadata": {},
     "output_type": "execute_result"
    }
   ],
   "source": [
    "(Y-softmax((X @ weights))).shape"
   ]
  },
  {
   "cell_type": "code",
   "execution_count": 64,
   "metadata": {},
   "outputs": [
    {
     "data": {
      "text/plain": [
       "(50000, 1025)"
      ]
     },
     "execution_count": 64,
     "metadata": {},
     "output_type": "execute_result"
    }
   ],
   "source": [
    "X.shape"
   ]
  },
  {
   "cell_type": "code",
   "execution_count": 73,
   "metadata": {},
   "outputs": [
    {
     "data": {
      "text/plain": [
       "array([[0.27350714, 0.13668895, 0.15814215, ..., 0.85131471, 0.9709324 ,\n",
       "        0.91502784]])"
      ]
     },
     "execution_count": 73,
     "metadata": {},
     "output_type": "execute_result"
    }
   ],
   "source": [
    "X = np.random.rand(1,1024)\n",
    "X"
   ]
  },
  {
   "cell_type": "code",
   "execution_count": 74,
   "metadata": {},
   "outputs": [
    {
     "data": {
      "text/plain": [
       "array([[0.70957806, 0.06782266, 0.5159435 , 0.18637622, 0.68912814,\n",
       "        0.35994542, 0.90680569, 0.83403932, 0.34260234, 0.04830315]])"
      ]
     },
     "execution_count": 74,
     "metadata": {},
     "output_type": "execute_result"
    }
   ],
   "source": [
    "y = np.random.rand(1,10)\n",
    "y"
   ]
  },
  {
   "cell_type": "code",
   "execution_count": 75,
   "metadata": {},
   "outputs": [
    {
     "data": {
      "text/plain": [
       "(1024, 10)"
      ]
     },
     "execution_count": 75,
     "metadata": {},
     "output_type": "execute_result"
    }
   ],
   "source": [
    "(X.T @ y).shape"
   ]
  },
  {
   "cell_type": "code",
   "execution_count": null,
   "metadata": {},
   "outputs": [],
   "source": []
  }
 ],
 "metadata": {
  "kernelspec": {
   "display_name": "Python 3.9.2 ('cse151b': venv)",
   "language": "python",
   "name": "python3"
  },
  "language_info": {
   "codemirror_mode": {
    "name": "ipython",
    "version": 3
   },
   "file_extension": ".py",
   "mimetype": "text/x-python",
   "name": "python",
   "nbconvert_exporter": "python",
   "pygments_lexer": "ipython3",
   "version": "3.9.2"
  },
  "orig_nbformat": 4,
  "vscode": {
   "interpreter": {
    "hash": "ab08dfa41da4200f1d138e061add0e3aa9ee50f1ad2fd2998eaa339c4c2345f2"
   }
  }
 },
 "nbformat": 4,
 "nbformat_minor": 2
}

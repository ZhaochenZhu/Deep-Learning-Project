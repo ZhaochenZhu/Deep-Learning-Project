{
 "cells": [
  {
   "cell_type": "code",
   "execution_count": 8,
   "id": "1e8ac4cb-d8f7-4e83-a928-952edf8e9d5b",
   "metadata": {},
   "outputs": [
    {
     "name": "stdout",
     "output_type": "stream",
     "text": [
      "The autoreload extension is already loaded. To reload it, use:\n",
      "  %reload_ext autoreload\n"
     ]
    }
   ],
   "source": [
    "import numpy as np\n",
    "from neuralnet import *\n",
    "from train import *\n",
    "from util import *\n",
    "import matplotlib.pyplot as plt\n",
    "from gradient import *\n",
    "import tqdm\n",
    "''\n",
    "%load_ext autoreload\n",
    "%autoreload 2"
   ]
  },
  {
   "cell_type": "code",
   "execution_count": 9,
   "id": "4d5eeb7e-c1de-48cc-8fca-6ced21b5685e",
   "metadata": {},
   "outputs": [],
   "source": [
    "df=load_data('data')\n",
    "train_X, train_y, val_X, val_y,  test_X, test_y = df"
   ]
  },
  {
   "cell_type": "code",
   "execution_count": 11,
   "id": "a5ff7e74-aa48-4d75-b139-827ed285b3db",
   "metadata": {},
   "outputs": [
    {
     "data": {
      "text/plain": [
       "(10000, 3072)"
      ]
     },
     "execution_count": 11,
     "metadata": {},
     "output_type": "execute_result"
    }
   ],
   "source": [
    "test_X.shape"
   ]
  },
  {
   "cell_type": "code",
   "execution_count": 3,
   "id": "2c18f9e2-f965-4091-83af-52bb41a19c72",
   "metadata": {},
   "outputs": [],
   "source": [
    "config = util.load_config('configs/config_2b.yaml')\n",
    "x_train = train_X[:128]\n",
    "y_train = train_y[:128]\n",
    "checkGradient(x_train,y_train,config)\n"
   ]
  },
  {
   "cell_type": "code",
   "execution_count": 7,
   "id": "b92d8f8a-dd33-450a-b36a-4c6c16537d9b",
   "metadata": {},
   "outputs": [
    {
     "name": "stdout",
     "output_type": "stream",
     "text": [
      "3.890187359799433e-14\n"
     ]
    }
   ],
   "source": [
    "!python3 -m main --experiment 'test_gradients'"
   ]
  },
  {
   "cell_type": "code",
   "execution_count": 8,
   "id": "866c0673-38f2-49b0-a8b7-e9c44b465d8e",
   "metadata": {},
   "outputs": [],
   "source": [
    "def check_grad(model, x_train, y_train):\n",
    "\n",
    "    \"\"\"\n",
    "    TODO\n",
    "        Checks if gradients computed numerically are within O(epsilon**2)\n",
    "\n",
    "        args:\n",
    "            model\n",
    "            x_train: Small subset of the original train dataset\n",
    "            y_train: Corresponding target labels of x_train\n",
    "\n",
    "        Prints gradient difference of values calculated via numerical approximation and backprop implementation\n",
    "    \"\"\"\n",
    "    #Create Model\n",
    "    #model=Neuralnetwork(config)\n",
    "\n",
    "    #Defien epsilon and wieght to be tested\n",
    "    epsilon = 1.e-2\n",
    "    layer_idx, w_idx_i, w_idx_j=1,-1,8\n",
    "\n",
    "\n",
    "    #Approximation\n",
    "    #PREP: For a given trained model with layes, each layer has recorded weights, \n",
    "    #      (model should return or store a list of layers so I can access and change a single specific weight)\n",
    "    #TODO:     Use given trian X, forward, til get output, with wij+epsilon, get cross entropy\n",
    "    #TODO:     Use given trian X, forward, til get output, with wij-epsilon, get cross entropy\n",
    "    #TODO:     Find diff and approximate gradient\n",
    "    #copy model:\n",
    "    m1 = copy.deepcopy(model)\n",
    "    m2 = copy.deepcopy(model)\n",
    "    #change single weight (inplace) at given layer, between from ith node in layer L to ith node to layer L+1\n",
    "    m1.layers[layer_idx].w[w_idx_i][w_idx_j]=m1.layers[layer_idx].w[w_idx_i][w_idx_j]+epsilon\n",
    "    m2.layers[layer_idx].w[w_idx_i][w_idx_j]=m2.layers[layer_idx].w[w_idx_i][w_idx_j]-epsilon\n",
    "    #calculate entropy:\n",
    "    Loss1,acc=m1.forward(x_train,targets=y_train)\n",
    "    Loss2,acc=m2.forward(x_train,targets=y_train)\n",
    "    approximate_grad=(Loss1-Loss2)/(2*epsilon)\n",
    "    # Gradient by Model:\n",
    "    model.forward(x_train,targets=y_train)\n",
    "    gradients=model.backward_check([],gradReqd=True)[::-1]\n",
    "    \n",
    "    return abs(approximate_grad+gradients[layer_idx][w_idx_i][w_idx_j])<=(epsilon)**2\n",
    "\n",
    "\n",
    "def checkGradient(x_train,y_train,config):\n",
    "\n",
    "    subsetSize = 10  #Feel free to change this\n",
    "    sample_idx = np.random.randint(0,len(x_train),subsetSize)\n",
    "    x_train_sample, y_train_sample = x_train[sample_idx], y_train[sample_idx]\n",
    "\n",
    "    model = Neuralnetwork(config)\n",
    "    check_grad(model, x_train_sample, y_train_sample)"
   ]
  },
  {
   "cell_type": "code",
   "execution_count": 9,
   "id": "f5d5b12c-7406-4c2b-b540-f664a0b774f2",
   "metadata": {},
   "outputs": [],
   "source": [
    "config = util.load_config('configs/config_2b.yaml')\n",
    "x_train = train_X[:128]\n",
    "y_train = train_y[:128]\n",
    "checkGradient(x_train,y_train,config)\n"
   ]
  },
  {
   "cell_type": "code",
   "execution_count": 3,
   "id": "7732be69-e870-4218-84bb-9869e590b4b7",
   "metadata": {},
   "outputs": [],
   "source": [
    "df=load_data('data')\n",
    "train_X, train_y, val_X, val_y,  test_X, test_y = df"
   ]
  },
  {
   "cell_type": "code",
   "execution_count": 70,
   "id": "34903d86-634d-44d4-9d2a-791960790cb9",
   "metadata": {},
   "outputs": [
    {
     "name": "stdout",
     "output_type": "stream",
     "text": [
      "-5.289047311229922e-06 5.289047300476592e-06\n"
     ]
    },
    {
     "data": {
      "text/plain": [
       "1.0753329751980994e-14"
      ]
     },
     "execution_count": 70,
     "metadata": {},
     "output_type": "execute_result"
    }
   ],
   "source": [
    "#Numeric Approximation:\n",
    "# slight change in weight\n",
    "x_tain = train_X[:128]\n",
    "y_train = train_y[:128]\n",
    "\n",
    "#should defined in the given model\n",
    "reg_para = 0.01\n",
    "\n",
    "model=Neuralnetwork(config)\n",
    "def loss(self, logits, targets):\n",
    "        '''\n",
    "        TODO: compute the categorical cross-entropy loss and return it.\n",
    "        '''\n",
    "        loss = -np.sum(targets*np.log(logits))\n",
    "        for layer in self.layers:\n",
    "            loss = loss + reg_para*(np.sum(layer.w ** 2))\n",
    "        return np.mean(loss)\n",
    "\n",
    "\n",
    "epsilon = 1.e-2\n",
    "loss_func = loss\n",
    "layer_idx, w_idx_i, w_idx_j=1,-1,8\n",
    "\n",
    "\n",
    "#Approximation\n",
    "#PREP: For a given trained model with layes, each layer has recorded weights, \n",
    "#      (model should return or store a list of layers so I can access and change a single specific weight)\n",
    "#TODO:     Use given trian X, forward, til get output, with wij+epsilon, get cross entropy\n",
    "#TODO:     Use given trian X, forward, til get output, with wij-epsilon, get cross entropy\n",
    "#TODO:     Find diff and approximate gradient\n",
    "#copy model:\n",
    "m1 = copy.deepcopy(model)\n",
    "m2 = copy.deepcopy(model)\n",
    "#change single weight (inplace) at given layer, between from ith node in layer L to ith node to layer L+1\n",
    "m1.layers[layer_idx].w[w_idx_i][w_idx_j]=m1.layers[layer_idx].w[w_idx_i][w_idx_j]+epsilon\n",
    "m2.layers[layer_idx].w[w_idx_i][w_idx_j]=m2.layers[layer_idx].w[w_idx_i][w_idx_j]-epsilon\n",
    "#calculate entropy:\n",
    "Loss1,acc=m1.forward(x_tain,targets=y_train)\n",
    "Loss2,acc=m2.forward(x_tain,targets=y_train)\n",
    "approximate_grad=(Loss1-Loss2)/(2*epsilon)\n",
    "# Gradient:\n",
    "\n",
    "model.forward(x_tain,targets=y_train)\n",
    "gradients=model.backward_check([],gradReqd=True)[::-1]\n",
    "\n",
    "print(approximate_grad,gradients[layer_idx][w_idx_i][w_idx_j])\n",
    "#gradient calculater here is actually -derivative, so need extra nagative sign\n",
    "abs(approximate_grad-(-gradients[layer_idx][w_idx_i][w_idx_j]))"
   ]
  },
  {
   "cell_type": "code",
   "execution_count": 58,
   "id": "41f2dbc3-6af7-4774-adae-4059a0a8e8fb",
   "metadata": {},
   "outputs": [
    {
     "data": {
      "text/plain": [
       "-3.672397714162997e-05"
      ]
     },
     "execution_count": 58,
     "metadata": {},
     "output_type": "execute_result"
    }
   ],
   "source": [
    "gradients[layer_idx][-1][10]"
   ]
  },
  {
   "cell_type": "code",
   "execution_count": 44,
   "id": "0eb087f5-9496-4460-811c-756b7fde3368",
   "metadata": {},
   "outputs": [
    {
     "data": {
      "text/plain": [
       "array([[-5.54156379e-04, -1.02193935e-03,  1.07530505e-03, ...,\n",
       "         3.05910712e-03, -3.47207249e-03, -2.23816651e-03],\n",
       "       [-3.87131635e-04, -3.84315206e-05, -1.85708112e-03, ...,\n",
       "        -1.95602001e-03, -2.79404859e-04, -3.67992225e-03],\n",
       "       [ 5.14784346e-03, -2.41408621e-03,  7.29966196e-04, ...,\n",
       "        -6.72470609e-04, -2.18582201e-03, -4.31677396e-03],\n",
       "       ...,\n",
       "       [ 2.76560309e-03, -3.66147370e-03,  1.65848845e-03, ...,\n",
       "         3.54346502e-03, -4.62264114e-03, -4.12021874e-03],\n",
       "       [ 1.18549015e-03,  4.83902463e-03, -2.23023940e-04, ...,\n",
       "        -1.56696993e-03,  1.11359554e-03, -1.35552121e-03],\n",
       "       [ 3.34707816e-02,  2.45214143e-02,  9.37672869e-03, ...,\n",
       "         1.68057472e-02, -2.94387091e-02, -3.71235444e-02]])"
      ]
     },
     "execution_count": 44,
     "metadata": {},
     "output_type": "execute_result"
    }
   ],
   "source": [
    "gradients[layer_idx]"
   ]
  },
  {
   "cell_type": "code",
   "execution_count": 5,
   "id": "0aa6b6ad-ad5b-491b-8838-2c52a85af286",
   "metadata": {},
   "outputs": [
    {
     "data": {
      "text/plain": [
       "<neuralnet.Layer at 0x10fe3d7b0>"
      ]
     },
     "execution_count": 5,
     "metadata": {},
     "output_type": "execute_result"
    }
   ],
   "source": [
    "m1.layers[layer_idx]#.w[w_idx_i][w_idx_j]"
   ]
  },
  {
   "cell_type": "code",
   "execution_count": 6,
   "id": "5a22234d-0411-4881-b877-1536358767f6",
   "metadata": {},
   "outputs": [
    {
     "data": {
      "text/plain": [
       "array([[0.00445044, 0.00437554, 0.00445519, ..., 0.00420888, 0.00432052,\n",
       "        0.00445585],\n",
       "       [0.00379781, 0.00366794, 0.00377362, ..., 0.00362562, 0.00361711,\n",
       "        0.00380794],\n",
       "       [0.0021702 , 0.00206143, 0.00214819, ..., 0.00209905, 0.00202445,\n",
       "        0.00220881],\n",
       "       ...,\n",
       "       [0.00732297, 0.0074596 , 0.00738887, ..., 0.00699931, 0.00751746,\n",
       "        0.00734952],\n",
       "       [0.00566852, 0.00577597, 0.00572747, ..., 0.00540549, 0.005853  ,\n",
       "        0.00567749],\n",
       "       [0.00225466, 0.00237254, 0.00222423, ..., 0.00218848, 0.0023374 ,\n",
       "        0.0022811 ]])"
      ]
     },
     "execution_count": 6,
     "metadata": {},
     "output_type": "execute_result"
    }
   ],
   "source": [
    "layer=model.layers[layer_idx]\n",
    "learning_rate=model.lr\n",
    "regularization=model.regularization\n",
    "grads=layer.x.T.dot(model.layers[layer_idx+1].dw)#-learning_rate*regularization*2*layer.w\n",
    "grads"
   ]
  },
  {
   "cell_type": "code",
   "execution_count": 7,
   "id": "e45a5d79-09be-4550-af48-cb35943ed9d1",
   "metadata": {},
   "outputs": [
    {
     "data": {
      "text/plain": [
       "array([[ 4.21735548e-09,  4.41327422e-09,  1.40531918e-08, ...,\n",
       "         5.87314270e-09,  1.60513689e-08,  9.44141146e-09],\n",
       "       [ 2.08888984e-08,  1.39256092e-08,  3.00853308e-08, ...,\n",
       "         1.74063952e-08,  1.94250751e-08,  1.75066449e-08],\n",
       "       [-3.56801982e-09, -1.03983461e-08, -1.33731709e-08, ...,\n",
       "        -1.34683850e-08, -1.55652271e-08, -2.86673216e-08],\n",
       "       ...,\n",
       "       [-1.55520722e-08, -6.42970275e-09,  6.06727157e-10, ...,\n",
       "        -9.85130636e-09, -5.79915777e-09, -1.32452011e-08],\n",
       "       [-3.31301835e-08, -1.85263120e-08, -5.76046058e-10, ...,\n",
       "        -2.27621520e-08, -1.74963710e-08, -2.33130244e-08],\n",
       "       [ 1.04800740e-07,  7.92545247e-08,  2.31816798e-07, ...,\n",
       "         6.89419737e-08,  4.86399179e-08, -1.93546266e-08]])"
      ]
     },
     "execution_count": 7,
     "metadata": {},
     "output_type": "execute_result"
    }
   ],
   "source": [
    "model.layers[layer_idx+1].previous_weight_change"
   ]
  },
  {
   "cell_type": "code",
   "execution_count": 8,
   "id": "83fe570e-baf7-4618-be99-a806ffa7e3fc",
   "metadata": {},
   "outputs": [
    {
     "data": {
      "text/plain": [
       "0.0003533078708147395"
      ]
     },
     "execution_count": 8,
     "metadata": {},
     "output_type": "execute_result"
    }
   ],
   "source": [
    "grads[w_idx_i][w_idx_j]"
   ]
  },
  {
   "cell_type": "code",
   "execution_count": 9,
   "id": "88e9003e-1af9-4bc5-8f44-eb8fe02043f1",
   "metadata": {},
   "outputs": [
    {
     "data": {
      "text/plain": [
       "-2.278158479640524e-05"
      ]
     },
     "execution_count": 9,
     "metadata": {},
     "output_type": "execute_result"
    }
   ],
   "source": [
    "approximate_grad"
   ]
  },
  {
   "cell_type": "code",
   "execution_count": 10,
   "id": "bcbc5fd5-b3c4-4886-a72b-cf4964239f77",
   "metadata": {},
   "outputs": [
    {
     "data": {
      "text/plain": [
       "2.3004930594767163"
      ]
     },
     "execution_count": 10,
     "metadata": {},
     "output_type": "execute_result"
    }
   ],
   "source": [
    "Loss1"
   ]
  },
  {
   "cell_type": "code",
   "execution_count": 11,
   "id": "3f9fcaba-413c-43b4-8fa2-ba290f84a53a",
   "metadata": {},
   "outputs": [
    {
     "data": {
      "text/plain": [
       "2.3004935151084123"
      ]
     },
     "execution_count": 11,
     "metadata": {},
     "output_type": "execute_result"
    }
   ],
   "source": [
    "Loss2"
   ]
  },
  {
   "cell_type": "code",
   "execution_count": 12,
   "id": "9e6dd503-0530-43cb-a1e8-06ac2c9d94f6",
   "metadata": {},
   "outputs": [
    {
     "data": {
      "text/plain": [
       "array([[0.41997434, 0.07065082, 0.00986604],\n",
       "       [0.41997434, 0.07065082, 0.00986604],\n",
       "       [0.41997434, 0.07065082, 0.00986604]])"
      ]
     },
     "execution_count": 12,
     "metadata": {},
     "output_type": "execute_result"
    }
   ],
   "source": [
    "1-np.tanh(np.array([[1,2,3],[1,2,3],[1,2,3]]))**2"
   ]
  },
  {
   "cell_type": "code",
   "execution_count": 13,
   "id": "92f85150-ff1f-4a39-af97-7b96a2e31260",
   "metadata": {},
   "outputs": [
    {
     "data": {
      "text/plain": [
       "<function __main__.loss(self, logits, targets)>"
      ]
     },
     "execution_count": 13,
     "metadata": {},
     "output_type": "execute_result"
    }
   ],
   "source": [
    "loss_func"
   ]
  },
  {
   "cell_type": "code",
   "execution_count": 14,
   "id": "6e68c906-8dda-4fdf-b812-e392f4b971a4",
   "metadata": {},
   "outputs": [],
   "source": [
    "[1,2,3].reverse()"
   ]
  },
  {
   "cell_type": "code",
   "execution_count": 15,
   "id": "2daa6b9a-6d15-42a3-90ca-98f8da97d08a",
   "metadata": {},
   "outputs": [
    {
     "data": {
      "text/plain": [
       "array([1.3284674 , 1.26913772, 1.26913772, ..., 0.63001101, 0.60286474,\n",
       "       0.57571846])"
      ]
     },
     "execution_count": 15,
     "metadata": {},
     "output_type": "execute_result"
    }
   ],
   "source": [
    "train_X[0]"
   ]
  },
  {
   "cell_type": "code",
   "execution_count": 16,
   "id": "1d42c9a0-c8d9-48e6-a675-ad5aa14b41a3",
   "metadata": {},
   "outputs": [],
   "source": [
    "a=np.array([1,2,3])\n",
    "b=np.array([1,2,3])"
   ]
  },
  {
   "cell_type": "code",
   "execution_count": 17,
   "id": "b71773cf-8948-4069-b51f-980bf2aebc82",
   "metadata": {},
   "outputs": [
    {
     "data": {
      "text/plain": [
       "array([1, 4, 9])"
      ]
     },
     "execution_count": 17,
     "metadata": {},
     "output_type": "execute_result"
    }
   ],
   "source": [
    "np.multiply(a,b)"
   ]
  },
  {
   "cell_type": "code",
   "execution_count": 18,
   "id": "6dc5e6aa-aec9-4b38-b094-d583b1aa61fc",
   "metadata": {},
   "outputs": [],
   "source": [
    "None"
   ]
  },
  {
   "cell_type": "code",
   "execution_count": 19,
   "id": "8fdfe413-9c6c-45d5-8204-e2251efc32da",
   "metadata": {},
   "outputs": [],
   "source": [
    "#L1: 2+bias, L2: 2\n",
    "x=np.array([1,0.2,0.03])\n",
    "y = np.array([[1,1,1],[2,2,2],[3,3,3]])"
   ]
  },
  {
   "cell_type": "code",
   "execution_count": 20,
   "id": "1b5fe1db-0159-43a7-a50f-ca45da830704",
   "metadata": {},
   "outputs": [
    {
     "ename": "NameError",
     "evalue": "name 'x_train' is not defined",
     "output_type": "error",
     "traceback": [
      "\u001b[0;31m---------------------------------------------------------------------------\u001b[0m",
      "\u001b[0;31mNameError\u001b[0m                                 Traceback (most recent call last)",
      "Cell \u001b[0;32mIn [20], line 1\u001b[0m\n\u001b[0;32m----> 1\u001b[0m train(model, \u001b[43mx_train\u001b[49m, y_train, x_valid, y_valid, config)\n",
      "\u001b[0;31mNameError\u001b[0m: name 'x_train' is not defined"
     ]
    }
   ],
   "source": [
    "train(model, x_train, y_train, x_valid, y_valid, config)"
   ]
  },
  {
   "cell_type": "code",
   "execution_count": null,
   "id": "db18c5c0-c4ae-49e0-9e73-106bffa01895",
   "metadata": {},
   "outputs": [],
   "source": [
    "config['epochs']=20\n",
    "config"
   ]
  },
  {
   "cell_type": "code",
   "execution_count": 21,
   "id": "3ec1986c-9a76-4542-8da0-14cc04301c38",
   "metadata": {},
   "outputs": [
    {
     "data": {
      "text/plain": [
       "1"
      ]
     },
     "execution_count": 21,
     "metadata": {},
     "output_type": "execute_result"
    }
   ],
   "source": [
    "len(np.array([[1,2,3]]))"
   ]
  },
  {
   "cell_type": "code",
   "execution_count": 22,
   "id": "46235a38-720c-43e2-b790-d64e127d8f29",
   "metadata": {},
   "outputs": [
    {
     "data": {
      "text/plain": [
       "array([1., 1., 1., 1., 1., 1., 1., 1., 1., 1.])"
      ]
     },
     "execution_count": 22,
     "metadata": {},
     "output_type": "execute_result"
    }
   ],
   "source": [
    "np.ones(10,)"
   ]
  },
  {
   "cell_type": "code",
   "execution_count": 23,
   "id": "67439996-1678-4c1e-a904-2300ab53c2ef",
   "metadata": {},
   "outputs": [
    {
     "ename": "AttributeError",
     "evalue": "module 'numpy' has no attribute 'np'",
     "output_type": "error",
     "traceback": [
      "\u001b[0;31m---------------------------------------------------------------------------\u001b[0m",
      "\u001b[0;31mAttributeError\u001b[0m                            Traceback (most recent call last)",
      "Cell \u001b[0;32mIn [23], line 1\u001b[0m\n\u001b[0;32m----> 1\u001b[0m deltaCur\u001b[38;5;241m=\u001b[39m\u001b[43mnp\u001b[49m\u001b[38;5;241;43m.\u001b[39;49m\u001b[43mnp\u001b[49m\u001b[38;5;241m.\u001b[39mones(\u001b[38;5;241m10\u001b[39m,)\n\u001b[1;32m      2\u001b[0m weight_no_bias\n\u001b[1;32m      3\u001b[0m weight_no_bias\u001b[38;5;241m.\u001b[39mdot(deltaCur\u001b[38;5;241m.\u001b[39mT)\u001b[38;5;241m.\u001b[39mT\n",
      "File \u001b[0;32m/Library/Frameworks/Python.framework/Versions/3.10/lib/python3.10/site-packages/numpy/__init__.py:311\u001b[0m, in \u001b[0;36m__getattr__\u001b[0;34m(attr)\u001b[0m\n\u001b[1;32m    308\u001b[0m     \u001b[38;5;28;01mfrom\u001b[39;00m \u001b[38;5;21;01m.\u001b[39;00m\u001b[38;5;21;01mtesting\u001b[39;00m \u001b[38;5;28;01mimport\u001b[39;00m Tester\n\u001b[1;32m    309\u001b[0m     \u001b[38;5;28;01mreturn\u001b[39;00m Tester\n\u001b[0;32m--> 311\u001b[0m \u001b[38;5;28;01mraise\u001b[39;00m \u001b[38;5;167;01mAttributeError\u001b[39;00m(\u001b[38;5;124m\"\u001b[39m\u001b[38;5;124mmodule \u001b[39m\u001b[38;5;132;01m{!r}\u001b[39;00m\u001b[38;5;124m has no attribute \u001b[39m\u001b[38;5;124m\"\u001b[39m\n\u001b[1;32m    312\u001b[0m                      \u001b[38;5;124m\"\u001b[39m\u001b[38;5;132;01m{!r}\u001b[39;00m\u001b[38;5;124m\"\u001b[39m\u001b[38;5;241m.\u001b[39mformat(\u001b[38;5;18m__name__\u001b[39m, attr))\n",
      "\u001b[0;31mAttributeError\u001b[0m: module 'numpy' has no attribute 'np'"
     ]
    }
   ],
   "source": [
    "deltaCur=np.np.ones(10,)\n",
    "weight_no_bias\n",
    "weight_no_bias.dot(deltaCur.T).T"
   ]
  },
  {
   "cell_type": "code",
   "execution_count": 24,
   "id": "df753e2e-7f4c-4c8f-ad1e-4a695b14b784",
   "metadata": {},
   "outputs": [
    {
     "name": "stdout",
     "output_type": "stream",
     "text": [
      "current epoch is 0\n",
      "we trained 1.3933448791503906 seconds for epoch #0\n",
      "current epoch is 1\n",
      "we trained 1.8224291801452637 seconds for epoch #1\n",
      "current epoch is 2\n",
      "we trained 1.6956772804260254 seconds for epoch #2\n",
      "current epoch is 3\n",
      "we trained 1.6792011260986328 seconds for epoch #3\n",
      "current epoch is 4\n",
      "we trained 1.739875078201294 seconds for epoch #4\n",
      "current epoch is 5\n",
      "we trained 1.8190741539001465 seconds for epoch #5\n",
      "current epoch is 6\n",
      "we trained 1.793050765991211 seconds for epoch #6\n",
      "current epoch is 7\n",
      "we trained 1.8876981735229492 seconds for epoch #7\n",
      "current epoch is 8\n",
      "we trained 1.5868101119995117 seconds for epoch #8\n",
      "current epoch is 9\n",
      "we trained 1.4987740516662598 seconds for epoch #9\n",
      "current epoch is 10\n",
      "we trained 1.5141420364379883 seconds for epoch #10\n",
      "current epoch is 11\n",
      "we trained 1.6447360515594482 seconds for epoch #11\n",
      "current epoch is 12\n",
      "we trained 1.454953908920288 seconds for epoch #12\n",
      "current epoch is 13\n",
      "we trained 1.6950657367706299 seconds for epoch #13\n",
      "current epoch is 14\n",
      "we trained 1.669884204864502 seconds for epoch #14\n",
      "current epoch is 15\n",
      "early_stop:6\n",
      "we trained 1.5798819065093994 seconds for epoch #15\n",
      "[2.2994817298196053, 2.2970688615147803, 2.2950233577556474, 2.288328168080493, 2.276983796890856, 2.262724475777383, 2.252290381553672, 2.245866803459172, 2.238240757904652, 2.2303081619229386, 2.2209738701355897, 2.2116754251359834, 2.204260330975455, 2.195517176857049, 2.185418026420804, 2.17627055579454]\n"
     ]
    },
    {
     "data": {
      "image/png": "[encoded data removed]",
      "text/plain": [
       "<Figure size 900x600 with 2 Axes>"
      ]
     },
     "metadata": {},
     "output_type": "display_data"
    },
    {
     "data": {
      "text/plain": [
       "<neuralnet.Neuralnetwork at 0x11c0e57b0>"
      ]
     },
     "execution_count": 24,
     "metadata": {},
     "output_type": "execute_result"
    }
   ],
   "source": [
    "full=1000\n",
    "model=Neuralnetwork(config)\n",
    "train(model, train_X[:full], train_y[:full], val_X[:full], val_y[:full], config)"
   ]
  },
  {
   "cell_type": "code",
   "execution_count": 129,
   "id": "f621c036-c934-4095-939a-d94f6a79f696",
   "metadata": {},
   "outputs": [
    {
     "data": {
      "text/plain": [
       "(2.30280614808669, 0.078)"
      ]
     },
     "execution_count": 129,
     "metadata": {},
     "output_type": "execute_result"
    }
   ],
   "source": [
    "modelTest(model,val_X[:full], val_y[:full])"
   ]
  },
  {
   "cell_type": "code",
   "execution_count": 105,
   "id": "af6ac528-d143-49f1-a98d-d2000b5a069f",
   "metadata": {},
   "outputs": [
    {
     "data": {
      "text/plain": [
       "2000"
      ]
     },
     "execution_count": 105,
     "metadata": {},
     "output_type": "execute_result"
    }
   ],
   "source": [
    "val_y[:full].shape[0]"
   ]
  },
  {
   "cell_type": "code",
   "execution_count": 111,
   "id": "97ce2d82-8371-4c4b-9d92-480ec630618f",
   "metadata": {},
   "outputs": [
    {
     "data": {
      "text/plain": [
       "3.25"
      ]
     },
     "execution_count": 111,
     "metadata": {},
     "output_type": "execute_result"
    }
   ],
   "source": [
    "np.mean(np.array([[[1,2,5],[2,4,5]],[[1,3,5],[2,4,5]]]))"
   ]
  },
  {
   "cell_type": "code",
   "execution_count": 125,
   "id": "c6229bf2-8939-4d94-bd41-6ca05b1c59cd",
   "metadata": {},
   "outputs": [
    {
     "data": {
      "text/plain": [
       "-0.06931471805599465"
      ]
     },
     "execution_count": 125,
     "metadata": {},
     "output_type": "execute_result"
    }
   ],
   "source": [
    "model.loss(val_y[:full]+1, targets=val_y[:full])"
   ]
  },
  {
   "cell_type": "code",
   "execution_count": 137,
   "id": "9045f962-326c-470b-8bef-d09d325cbf40",
   "metadata": {},
   "outputs": [
    {
     "data": {
      "text/plain": [
       "array([ True,  True])"
      ]
     },
     "execution_count": 137,
     "metadata": {},
     "output_type": "execute_result"
    }
   ],
   "source": [
    "np.argmax(np.array([[0,2],[5,4]]),axis=1)==[1,0]"
   ]
  },
  {
   "cell_type": "code",
   "execution_count": null,
   "id": "5d396a27-3025-464e-b225-53eaa3effeff",
   "metadata": {},
   "outputs": [],
   "source": []
  }
 ],
 "metadata": {
  "kernelspec": {
   "display_name": "Python 3 (ipykernel)",
   "language": "python",
   "name": "python3"
  },
  "language_info": {
   "codemirror_mode": {
    "name": "ipython",
    "version": 3
   },
   "file_extension": ".py",
   "mimetype": "text/x-python",
   "name": "python",
   "nbconvert_exporter": "python",
   "pygments_lexer": "ipython3",
   "version": "3.10.7"
  }
 },
 "nbformat": 4,
 "nbformat_minor": 5
}
